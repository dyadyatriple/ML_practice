{
 "cells": [
  {
   "cell_type": "code",
   "execution_count": 1,
   "id": "fcf773ef",
   "metadata": {},
   "outputs": [],
   "source": [
    "import numpy as np\n",
    "import numpy.testing as npt"
   ]
  },
  {
   "cell_type": "markdown",
   "id": "be8782f6",
   "metadata": {},
   "source": [
    "Initially, I'll write a function that calculates probabilities of classes in terminal nodes."
   ]
  },
  {
   "cell_type": "code",
   "execution_count": 11,
   "id": "4d98fdfd",
   "metadata": {},
   "outputs": [],
   "source": [
    "class ProbabilityMatcher():\n",
    "    def __init__(self,n_classes):\n",
    "        self.num_of_classes=n_classes\n",
    "    \n",
    "    def get_proba(self, y):\n",
    "\n",
    "        return np.bincount(y,minlength=self.num_of_classes)/y.size"
   ]
  },
  {
   "cell_type": "code",
   "execution_count": 3,
   "id": "c5b1d3ba",
   "metadata": {},
   "outputs": [],
   "source": [
    "a=np.array([1,1,2,4,2,2,0,1,0,4])"
   ]
  },
  {
   "cell_type": "code",
   "execution_count": 4,
   "id": "4daddd2b",
   "metadata": {},
   "outputs": [],
   "source": [
    "p=ProbabilityMatcher(n_classes=6)\n",
    "assert p.get_proba(a).tolist()==[0.2, 0.3, 0.3, 0. , 0.2, 0. ]"
   ]
  },
  {
   "cell_type": "code",
   "execution_count": 5,
   "id": "6b4f901d",
   "metadata": {},
   "outputs": [],
   "source": [
    "class BaseInformationCriterion:\n",
    "    \n",
    "    def find_best_split(self,X_feature,y):\n",
    "        thresholds=sorted(list(set(X_feature)))[1:-1]\n",
    "        max_q={'threshold':None,'Q_max':-np.inf}\n",
    "        H_main=get_H(y)\n",
    "        for treshold in thresholds:\n",
    "            mask = X_feature>=threshold\n",
    "            y_right=y[mask]\n",
    "            y_left=y[~mask]\n",
    "            Q=get_Q(H_main,y_left,y_right)\n",
    "            if Q>max_q['max']:\n",
    "                max_q['threshold']=threshold\n",
    "                max_q['Q_max']= Q\n",
    "        return max_q.values()\n",
    "            \n",
    "    def get_Q(self,H_main,y_left,y_right):\n",
    "        len_left=len(y_left)\n",
    "        len_right=len(y_right)\n",
    "        total=len_left+len_right\n",
    "        if len_left==0:\n",
    "            return H_main-len_right/total*self.get_H(y_right)\n",
    "        if len_right==0:\n",
    "            return H_main-len_left/total*self.get_H(y_left)\n",
    "        return H_main-len_left/total*self.get_H(y_left)-len_right/total*self.get_H(y_right)\n",
    "    \n",
    "    def get_H(self,y):\n",
    "        raise NotImplementedError\n",
    "        \n",
    "        \n",
    "        \n",
    "        \n",
    "class GiniCriterion(BaseInformationCriterion):\n",
    "    def __init__(self,n_classes=None):\n",
    "        self.probs_matcher=ProbabilityMatcher(n_classes)\n",
    "    def get_H(self,y):\n",
    "        probs=self.probs_matcher.get_proba(y)\n",
    "        antiprobs=1-probs\n",
    "        return (probs*antiprobs).sum()"
   ]
  },
  {
   "cell_type": "code",
   "execution_count": 9,
   "id": "1e33f979",
   "metadata": {},
   "outputs": [],
   "source": [
    "g=GiniCriterion()\n",
    "h_main=g.get_H(a)\n",
    "npt.assert_almost_equal(h_main,0.74,4)"
   ]
  },
  {
   "cell_type": "code",
   "execution_count": 15,
   "id": "202e19c3",
   "metadata": {},
   "outputs": [],
   "source": [
    "\n",
    "npt.assert_almost_equal(\n",
    "    g.get_Q(h_main,np.array([1,1,1,0]),np.array([2,2,0,2,4,4])),0.2233333333,decimal=4)"
   ]
  },
  {
   "cell_type": "code",
   "execution_count": null,
   "id": "2d2ba6ae",
   "metadata": {},
   "outputs": [],
   "source": []
  }
 ],
 "metadata": {
  "kernelspec": {
   "display_name": "Python 3",
   "language": "python",
   "name": "python3"
  },
  "language_info": {
   "codemirror_mode": {
    "name": "ipython",
    "version": 3
   },
   "file_extension": ".py",
   "mimetype": "text/x-python",
   "name": "python",
   "nbconvert_exporter": "python",
   "pygments_lexer": "ipython3",
   "version": "3.8.8"
  }
 },
 "nbformat": 4,
 "nbformat_minor": 5
}
